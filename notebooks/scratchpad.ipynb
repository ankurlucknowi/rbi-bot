{
 "cells": [
  {
   "cell_type": "code",
   "execution_count": null,
   "id": "ada8f2ff-4116-423f-aed6-9acd132f2dd8",
   "metadata": {},
   "outputs": [],
   "source": [
    "import os\n",
    "# Single File read block\n",
    "# Specify the directory you want to read\n",
    "\n",
    "documents_1 = ''\n",
    "documents_directory = '/home/jupyter/rbi-bot/rbi-docs'\n",
    "splitter = RecursiveCharacterTextSplitter(\n",
    "    chunk_size=400,\n",
    "    chunk_overlap=20\n",
    ")\n",
    "\n",
    "def split_documents(splitter, documents_1):\n",
    "    # Split the documents using the provided splitter\n",
    "    split_1 = splitter.split_text(documents_1)\n",
    "    # Create documents from the split chunks\n",
    "    #split_1 = splitter.create_documents(split_1)\n",
    "    return split_1\n",
    "\n",
    "vector_db = None\n",
    "filepath = '/home/jupyter/rbi-bot/rbi-docs/01MC01042024E0D6B768164C41678A616F743BF7426B 2.pdf'\n",
    "with open(filepath, 'r') as file:\n",
    "    # Read the contents of the file\n",
    "    reader = PdfReader(filepath)\n",
    "    for page in reader.pages:\n",
    "        documents_1 += page.extract_text()\n",
    "        print(f\"generated documents\")\n",
    "    splits_1 = split_documents(splitter,documents_1)\n",
    "    print(f\"split documents\")\n",
    "    #extension_db = FAISS.from_documents(splits_1, model)\n",
    "    #extension_db.save_local(vector_db_directory) \n",
    "    #print(splits_1)\n",
    "\n",
    "#Encode a subset of questions for validation\n",
    "\n",
    "is_successful, question_embeddings = encode_text_to_embedding_batched(\n",
    "   splits_1\n",
    ")\n",
    "\n",
    "# Filter for successfully embedded sentences\n",
    "#questions = splits_1[is_successful]\n",
    "\n",
    "DIMENSIONS = len(question_embeddings[0])\n",
    "print(DIMENSIONS)\n",
    "print(question_embeddings[1])"
   ]
  }
 ],
 "metadata": {
  "environment": {
   "kernel": "conda-base-py",
   "name": "workbench-notebooks.m120",
   "type": "gcloud",
   "uri": "us-docker.pkg.dev/deeplearning-platform-release/gcr.io/workbench-notebooks:m120"
  },
  "kernelspec": {
   "display_name": "Python 3 (ipykernel)",
   "language": "python",
   "name": "conda-base-py"
  },
  "language_info": {
   "codemirror_mode": {
    "name": "ipython",
    "version": 3
   },
   "file_extension": ".py",
   "mimetype": "text/x-python",
   "name": "python",
   "nbconvert_exporter": "python",
   "pygments_lexer": "ipython3",
   "version": "3.10.14"
  }
 },
 "nbformat": 4,
 "nbformat_minor": 5
}
